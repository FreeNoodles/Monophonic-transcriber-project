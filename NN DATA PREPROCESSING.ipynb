{
 "cells": [
  {
   "cell_type": "code",
   "execution_count": null,
   "metadata": {},
   "outputs": [],
   "source": [
    "import librosa\n",
    "from librosa import display\n",
    "import matplotlib.pyplot as plt\n",
    "import scipy\n",
    "import os\n",
    "import tensorflow as tf\n",
    "from keras.layers import Conv2D, Flatten, MaxPooling2D, Dropout, Dense\n",
    "from keras.losses import binary_crossentropy\n",
    "from keras.activations import sigmoid, relu\n",
    "from keras.models import Sequential\n",
    "from keras.optimizers import rmsprop\n",
    "from keras.preprocessing.image import ImageDataGenerator\n",
    "from mido import MidiFile\n",
    "import pandas as pd\n",
    "import numpy as np\n",
    "import csv\n",
    "import multiprocessing as mp\n",
    "import shutil\n"
   ]
  },
  {
   "cell_type": "code",
   "execution_count": null,
   "metadata": {},
   "outputs": [],
   "source": [
    "sourcePath = \"C:\\\\Users\\\\Gebruiker\\\\Desktop\\\\Database Tabs Wav\\\\train\\\\wav\\\\\"\n",
    "targetPath = \"C:\\\\Users\\\\Gebruiker\\\\Desktop\\\\testfolder\\\\\"\n"
   ]
  },
  {
   "cell_type": "markdown",
   "metadata": {},
   "source": [
    "# Data preprocessing IMAGES"
   ]
  },
  {
   "cell_type": "code",
   "execution_count": null,
   "metadata": {},
   "outputs": [],
   "source": [
    "def generateSpectogram(sourcePath,targetPath):     #generate Mel-spectogram from wav \n",
    "    \n",
    "    plt.box(0)\n",
    "    base, ext= os.path.splitext(file) #saving generated spectogram in target directory\n",
    "    samples, sampling_rate = librosa.load(sourcePath)\n",
    "    spectogram = librosa.stft(samples)\n",
    "    mel = librosa.feature.melspectrogram(y=samples,sr=sampling_rate,S=spectogram,n_fft=2048,hop_length=512,n_mels=128)\n",
    "    mel_dB = librosa.amplitude_to_db(np.abs(mel)) \n",
    "    librosa.display.specshow(mel_dB,cmap='gray')\n",
    "    plt.savefig(targetPath  + f\"\\\\{base}\" + \".png\")\n",
    "    plt.close()"
   ]
  },
  {
   "cell_type": "markdown",
   "metadata": {},
   "source": [
    "# Transforming wav files to spectograms"
   ]
  },
  {
   "cell_type": "code",
   "execution_count": null,
   "metadata": {},
   "outputs": [],
   "source": [
    "for file in os.listdir(sourcePath):\n",
    "    generateSpectogram(sourcePath+ f\"\\\\{file}\",targetPath)  #generating spectogram\n",
    "       "
   ]
  },
  {
   "cell_type": "markdown",
   "metadata": {},
   "source": [
    "# Data preprocessing LABELS"
   ]
  },
  {
   "cell_type": "markdown",
   "metadata": {},
   "source": [
    "# method 1 - flow from Dataframe\n"
   ]
  },
  {
   "cell_type": "code",
   "execution_count": null,
   "metadata": {},
   "outputs": [],
   "source": [
    "file_path = r\"C:\\Users\\Gebruiker\\Desktop\\nsynth-train\\examples.json\"                       #transposing(switching) rows-columns\n",
    "json_file = pd.read_json(file_path)\n",
    "json_file_transposed = json_file.transpose()\n",
    "json_file_transposed.head()\n",
    "json_file_transposed.to_csv(r\"C:\\Users\\Gebruiker\\Desktop\\transposed_jsonfile.csv\")           \n",
    "\n",
    "with open(r\"C:\\Users\\Gebruiker\\Desktop\\Pitch-labels_GUITARS.csv\",'w',newline='') as labels_file_guitar: #trimming down data\n",
    "    writeData = csv.writer(labels_file_guitar,delimiter=',')\n",
    "    writeData.writerow(['',\"pitch\"])\n",
    "    \n",
    "    with open(r\"C:\\Users\\Gebruiker\\Desktop\\Pitch-labels_ALL.csv\",'r') as labels_file:\n",
    "        readData =  csv.reader(labels_file,delimiter=',')\n",
    "\n",
    "        for row in readData:\n",
    "            if((\"guitar\" in row[0]) == 1):\n",
    "                writeData.writerow(row)\n",
    "   \n",
    "            \n",
    "            \n",
    "with open(path_directory + '\\labels.csv','r') as csv_file:                #appending .png to all filenames\n",
    "    row_reader = csv.reader(csv_file,delimiter = ',')\n",
    "    with open(r'C:\\Users\\Gebruiker\\Desktop\\edited_labels.csv','w',newline='') as csv_edited:\n",
    "        row_writer = csv.writer(csv_edited,delimiter = ',')\n",
    "        for row in row_reader:\n",
    "      \n",
    "            row_writer.writerow([row[0] + '.png'] )\n",
    "            print(row[0] + '.png')  \n",
    "\n",
    "\n"
   ]
  },
  {
   "cell_type": "markdown",
   "metadata": {},
   "source": []
  },
  {
   "cell_type": "markdown",
   "metadata": {
    "scrolled": true
   },
   "source": [
    "\n",
    "ONE HOT ENCODING pitch labels"
   ]
  },
  {
   "cell_type": "code",
   "execution_count": null,
   "metadata": {},
   "outputs": [],
   "source": [
    "headerRow2 = ['filename','A0','A#0','B0','C1','C#1','D1','D#1','E1','F1',\n",
    "         'F#1','G1','G#1','A1','A#1','B1','C2','C#2','D2','D#2','E2','F2',\n",
    "         'F#2','G2','G#2','A2','A#2','B2','C3','C#3','D3','D#3','E3','F3',\n",
    "         'F#3','G3','G#3','A3','A#3','B3','C4','C#4','D4','D#4','E4','F4',\n",
    "         'F#4','G4','G#4','A4','A#4','B4','C5','C#5','D5','D#5','E5','F5',\n",
    "         'F#5','G5','G#5','A5','A#5','B5','C6','C#6','D6','D#6','E6','F6',\n",
    "         'F#6','G6','G#6','A6','A#6','B6','C7','C#7','D7','D#7','E7','F7',\n",
    "         'F#7','G7','G#7','A7','A#7','B7','C8']\n",
    "print(headerRow2)"
   ]
  },
  {
   "cell_type": "code",
   "execution_count": null,
   "metadata": {},
   "outputs": [],
   "source": [
    "with open(r\"C:\\Users\\Gebruiker\\Desktop\\labels_onehotencoded1.csv\",'r') as labels_onehotencoded1:\n",
    "    readData = csv.reader(labels_onehotencoded1, delimiter = ',')\n",
    "    headerRow1 = next(readData)\n",
    "    \n",
    "    with open(r\"C:\\Users\\Gebruiker\\Desktop\\labels_onehotencoded2.csv\",'w',newline='') as labels_onehotencoded2:\n",
    "        writeData = csv.writer(labels_onehotencoded2)\n",
    "        writeData.writerow(headerRow2)\n",
    "        for row in readData:\n",
    "            placeholderRow = []\n",
    "           \n",
    "            for index, value in enumerate(headerRow1[1: len(headerRow1)],start = 1):\n",
    "                \n",
    "                if(row[1] == headerRow1[index]):\n",
    "                    placeholderRow.append(1)\n",
    "                else:\n",
    "                    placeholderRow.append(0)\n",
    "                    \n",
    "            writeData.writerow(row[0:1] + placeholderRow)\n",
    "\n",
    "                 "
   ]
  },
  {
   "cell_type": "markdown",
   "metadata": {},
   "source": [
    " TASK trim the labels even further down to contain only the 19996 labels for spectogram\n"
   ]
  },
  {
   "cell_type": "code",
   "execution_count": 76,
   "metadata": {},
   "outputs": [],
   "source": [
    "listSpectogram = []                      #see if label names exist in spectogram - if yes - keep\n",
    "\n",
    "for file in os.listdir(r'C:\\Users\\Gebruiker\\Desktop\\training\\images'):  \n",
    "    listSpectogram.append(file)\n",
    "    \n",
    "with open(r\"C:\\Users\\Gebruiker\\Desktop\\labels_onehotencoded2.csv\",'r') as file1:\n",
    "    readData = csv.reader(file1,delimiter =\",\")\n",
    "    headerRow = next(readData)\n",
    "        \n",
    "    with open(r\"C:\\Users\\Gebruiker\\Desktop\\labels_onehotencodedFINAL.csv\",'w',newline='') as file2:\n",
    "        writeData = csv.writer(file2,delimiter = ',')\n",
    "        writeData.writerow(headerRow)\n",
    "        headerRow1 = next(readData)\n",
    "        for row in readData:\n",
    "            if(row[0] in listSpectogram):\n",
    "                writeData.writerow(row)\n",
    "\n"
   ]
  },
  {
   "cell_type": "code",
   "execution_count": null,
   "metadata": {},
   "outputs": [],
   "source": []
  }
 ],
 "metadata": {
  "kernelspec": {
   "display_name": "Python 3.7 (tensorflow)",
   "language": "python",
   "name": "tensorflow"
  },
  "language_info": {
   "codemirror_mode": {
    "name": "ipython",
    "version": 3
   },
   "file_extension": ".py",
   "mimetype": "text/x-python",
   "name": "python",
   "nbconvert_exporter": "python",
   "pygments_lexer": "ipython3",
   "version": "3.7.7"
  }
 },
 "nbformat": 4,
 "nbformat_minor": 4
}
